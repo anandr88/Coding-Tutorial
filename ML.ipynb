{
 "cells": [
  {
   "cell_type": "code",
   "execution_count": 3,
   "id": "7a5e9fe2",
   "metadata": {},
   "outputs": [],
   "source": [
    "import pandas as pd\n",
    "import numpy as np\n",
    "import numpy as np\n",
    "from sklearn.model_selection import train_test_split\n",
    "from sklearn import datasets\n",
    "from sklearn import svm\n",
    "import sklearn as skl"
   ]
  },
  {
   "cell_type": "markdown",
   "id": "0ebc9f8a",
   "metadata": {},
   "source": [
    "#  **Second Run**"
   ]
  },
  {
   "cell_type": "code",
   "execution_count": 4,
   "id": "bb9043ed",
   "metadata": {},
   "outputs": [],
   "source": [
    "kaggle_train_aac = pd.read_csv('kaggle_train.csv')"
   ]
  },
  {
   "cell_type": "code",
   "execution_count": 5,
   "id": "91cdc3f3",
   "metadata": {},
   "outputs": [
    {
     "data": {
      "text/html": [
       "<div>\n",
       "<style scoped>\n",
       "    .dataframe tbody tr th:only-of-type {\n",
       "        vertical-align: middle;\n",
       "    }\n",
       "\n",
       "    .dataframe tbody tr th {\n",
       "        vertical-align: top;\n",
       "    }\n",
       "\n",
       "    .dataframe thead th {\n",
       "        text-align: right;\n",
       "    }\n",
       "</style>\n",
       "<table border=\"1\" class=\"dataframe\">\n",
       "  <thead>\n",
       "    <tr style=\"text-align: right;\">\n",
       "      <th></th>\n",
       "      <th>Labels</th>\n",
       "      <th>ACAN</th>\n",
       "      <th>AGER</th>\n",
       "      <th>ALPK1</th>\n",
       "      <th>ANKRD17</th>\n",
       "      <th>APOB</th>\n",
       "      <th>APPL1</th>\n",
       "      <th>APPL2</th>\n",
       "      <th>ARRB2</th>\n",
       "      <th>ASGR1</th>\n",
       "      <th>...</th>\n",
       "      <th>UBE2N</th>\n",
       "      <th>UBE2V1</th>\n",
       "      <th>UBQLN1</th>\n",
       "      <th>UFD1</th>\n",
       "      <th>UNC93B1</th>\n",
       "      <th>USP17L2</th>\n",
       "      <th>VCAN</th>\n",
       "      <th>WDFY1</th>\n",
       "      <th>XIAP</th>\n",
       "      <th>ZCCHC3</th>\n",
       "    </tr>\n",
       "  </thead>\n",
       "  <tbody>\n",
       "    <tr>\n",
       "      <th>0</th>\n",
       "      <td>0</td>\n",
       "      <td>13.6584</td>\n",
       "      <td>88.0205</td>\n",
       "      <td>402.5420</td>\n",
       "      <td>1424.2625</td>\n",
       "      <td>3.7940</td>\n",
       "      <td>1001.2330</td>\n",
       "      <td>508.0148</td>\n",
       "      <td>567.2010</td>\n",
       "      <td>13.6584</td>\n",
       "      <td>...</td>\n",
       "      <td>2437.6363</td>\n",
       "      <td>3413.2107</td>\n",
       "      <td>4135.4453</td>\n",
       "      <td>950.0104</td>\n",
       "      <td>1434.1269</td>\n",
       "      <td>0.0000</td>\n",
       "      <td>31.8695</td>\n",
       "      <td>923.0769</td>\n",
       "      <td>1046.0021</td>\n",
       "      <td>819.1217</td>\n",
       "    </tr>\n",
       "    <tr>\n",
       "      <th>1</th>\n",
       "      <td>0</td>\n",
       "      <td>22.0844</td>\n",
       "      <td>86.3807</td>\n",
       "      <td>690.4861</td>\n",
       "      <td>2226.3285</td>\n",
       "      <td>20.4071</td>\n",
       "      <td>486.9744</td>\n",
       "      <td>1448.0640</td>\n",
       "      <td>651.9083</td>\n",
       "      <td>11.1820</td>\n",
       "      <td>...</td>\n",
       "      <td>2153.9253</td>\n",
       "      <td>1817.3762</td>\n",
       "      <td>3426.4325</td>\n",
       "      <td>1380.1196</td>\n",
       "      <td>815.7241</td>\n",
       "      <td>0.0000</td>\n",
       "      <td>1651.0166</td>\n",
       "      <td>1473.7825</td>\n",
       "      <td>1618.8684</td>\n",
       "      <td>615.8465</td>\n",
       "    </tr>\n",
       "    <tr>\n",
       "      <th>2</th>\n",
       "      <td>0</td>\n",
       "      <td>32.7422</td>\n",
       "      <td>53.0820</td>\n",
       "      <td>128.4882</td>\n",
       "      <td>1073.0497</td>\n",
       "      <td>0.0000</td>\n",
       "      <td>654.8431</td>\n",
       "      <td>492.6206</td>\n",
       "      <td>512.9604</td>\n",
       "      <td>13.8906</td>\n",
       "      <td>...</td>\n",
       "      <td>3122.4110</td>\n",
       "      <td>3720.6995</td>\n",
       "      <td>3000.3721</td>\n",
       "      <td>2681.3791</td>\n",
       "      <td>1429.2447</td>\n",
       "      <td>0.4961</td>\n",
       "      <td>693.5384</td>\n",
       "      <td>477.2417</td>\n",
       "      <td>1064.6161</td>\n",
       "      <td>804.1672</td>\n",
       "    </tr>\n",
       "    <tr>\n",
       "      <th>3</th>\n",
       "      <td>0</td>\n",
       "      <td>22.7975</td>\n",
       "      <td>42.1175</td>\n",
       "      <td>634.0804</td>\n",
       "      <td>3285.5487</td>\n",
       "      <td>0.0000</td>\n",
       "      <td>574.9614</td>\n",
       "      <td>513.9104</td>\n",
       "      <td>1033.2303</td>\n",
       "      <td>31.6847</td>\n",
       "      <td>...</td>\n",
       "      <td>2663.4467</td>\n",
       "      <td>3217.9212</td>\n",
       "      <td>4131.3756</td>\n",
       "      <td>1178.8640</td>\n",
       "      <td>1018.5471</td>\n",
       "      <td>0.0000</td>\n",
       "      <td>675.0386</td>\n",
       "      <td>1596.5997</td>\n",
       "      <td>1666.1515</td>\n",
       "      <td>402.6275</td>\n",
       "    </tr>\n",
       "    <tr>\n",
       "      <th>4</th>\n",
       "      <td>0</td>\n",
       "      <td>2.5000</td>\n",
       "      <td>134.0625</td>\n",
       "      <td>532.1875</td>\n",
       "      <td>936.5625</td>\n",
       "      <td>0.0000</td>\n",
       "      <td>1933.4375</td>\n",
       "      <td>679.3750</td>\n",
       "      <td>1175.6250</td>\n",
       "      <td>6.5625</td>\n",
       "      <td>...</td>\n",
       "      <td>1898.4375</td>\n",
       "      <td>3009.1375</td>\n",
       "      <td>2549.3750</td>\n",
       "      <td>1293.1156</td>\n",
       "      <td>744.6875</td>\n",
       "      <td>0.0000</td>\n",
       "      <td>69.0625</td>\n",
       "      <td>1651.5625</td>\n",
       "      <td>1250.3125</td>\n",
       "      <td>982.5000</td>\n",
       "    </tr>\n",
       "    <tr>\n",
       "      <th>...</th>\n",
       "      <td>...</td>\n",
       "      <td>...</td>\n",
       "      <td>...</td>\n",
       "      <td>...</td>\n",
       "      <td>...</td>\n",
       "      <td>...</td>\n",
       "      <td>...</td>\n",
       "      <td>...</td>\n",
       "      <td>...</td>\n",
       "      <td>...</td>\n",
       "      <td>...</td>\n",
       "      <td>...</td>\n",
       "      <td>...</td>\n",
       "      <td>...</td>\n",
       "      <td>...</td>\n",
       "      <td>...</td>\n",
       "      <td>...</td>\n",
       "      <td>...</td>\n",
       "      <td>...</td>\n",
       "      <td>...</td>\n",
       "      <td>...</td>\n",
       "    </tr>\n",
       "    <tr>\n",
       "      <th>247</th>\n",
       "      <td>1</td>\n",
       "      <td>61.3497</td>\n",
       "      <td>209.2706</td>\n",
       "      <td>300.6135</td>\n",
       "      <td>676.8916</td>\n",
       "      <td>4.0900</td>\n",
       "      <td>866.3940</td>\n",
       "      <td>836.4008</td>\n",
       "      <td>903.8855</td>\n",
       "      <td>40.8998</td>\n",
       "      <td>...</td>\n",
       "      <td>2700.7498</td>\n",
       "      <td>2858.8957</td>\n",
       "      <td>1663.9400</td>\n",
       "      <td>2168.3640</td>\n",
       "      <td>1858.2140</td>\n",
       "      <td>0.0000</td>\n",
       "      <td>441.0361</td>\n",
       "      <td>586.9121</td>\n",
       "      <td>583.5037</td>\n",
       "      <td>732.1063</td>\n",
       "    </tr>\n",
       "    <tr>\n",
       "      <th>248</th>\n",
       "      <td>1</td>\n",
       "      <td>25.0447</td>\n",
       "      <td>89.7436</td>\n",
       "      <td>1050.3876</td>\n",
       "      <td>1677.6983</td>\n",
       "      <td>0.0000</td>\n",
       "      <td>1019.0817</td>\n",
       "      <td>2058.1395</td>\n",
       "      <td>2086.4639</td>\n",
       "      <td>3.8760</td>\n",
       "      <td>...</td>\n",
       "      <td>1367.0244</td>\n",
       "      <td>2176.7352</td>\n",
       "      <td>2595.4085</td>\n",
       "      <td>1222.4120</td>\n",
       "      <td>2648.4794</td>\n",
       "      <td>0.0000</td>\n",
       "      <td>471.9738</td>\n",
       "      <td>1548.5987</td>\n",
       "      <td>1888.4914</td>\n",
       "      <td>788.6106</td>\n",
       "    </tr>\n",
       "    <tr>\n",
       "      <th>249</th>\n",
       "      <td>0</td>\n",
       "      <td>18.8321</td>\n",
       "      <td>50.5493</td>\n",
       "      <td>631.0399</td>\n",
       "      <td>1997.8525</td>\n",
       "      <td>0.3304</td>\n",
       "      <td>821.6734</td>\n",
       "      <td>941.9344</td>\n",
       "      <td>912.1996</td>\n",
       "      <td>17.8409</td>\n",
       "      <td>...</td>\n",
       "      <td>2085.7355</td>\n",
       "      <td>2405.6562</td>\n",
       "      <td>3461.1382</td>\n",
       "      <td>1596.0981</td>\n",
       "      <td>665.7306</td>\n",
       "      <td>0.3304</td>\n",
       "      <td>1272.3218</td>\n",
       "      <td>763.8556</td>\n",
       "      <td>1522.4250</td>\n",
       "      <td>347.2371</td>\n",
       "    </tr>\n",
       "    <tr>\n",
       "      <th>250</th>\n",
       "      <td>0</td>\n",
       "      <td>17.2414</td>\n",
       "      <td>92.8100</td>\n",
       "      <td>825.3852</td>\n",
       "      <td>2262.6559</td>\n",
       "      <td>0.3668</td>\n",
       "      <td>1421.8635</td>\n",
       "      <td>960.7483</td>\n",
       "      <td>1231.1079</td>\n",
       "      <td>2.9347</td>\n",
       "      <td>...</td>\n",
       "      <td>2774.0279</td>\n",
       "      <td>2888.9142</td>\n",
       "      <td>4561.6288</td>\n",
       "      <td>1594.2296</td>\n",
       "      <td>653.7051</td>\n",
       "      <td>0.0000</td>\n",
       "      <td>392.5165</td>\n",
       "      <td>2422.9640</td>\n",
       "      <td>1749.0829</td>\n",
       "      <td>768.1585</td>\n",
       "    </tr>\n",
       "    <tr>\n",
       "      <th>251</th>\n",
       "      <td>0</td>\n",
       "      <td>30.6291</td>\n",
       "      <td>96.0265</td>\n",
       "      <td>541.6667</td>\n",
       "      <td>2443.4327</td>\n",
       "      <td>0.2759</td>\n",
       "      <td>2218.5403</td>\n",
       "      <td>1235.9272</td>\n",
       "      <td>961.6446</td>\n",
       "      <td>4.4150</td>\n",
       "      <td>...</td>\n",
       "      <td>2553.8079</td>\n",
       "      <td>2839.9558</td>\n",
       "      <td>4388.2450</td>\n",
       "      <td>1104.2908</td>\n",
       "      <td>602.6490</td>\n",
       "      <td>0.0000</td>\n",
       "      <td>411.4238</td>\n",
       "      <td>835.5408</td>\n",
       "      <td>1103.2009</td>\n",
       "      <td>713.3002</td>\n",
       "    </tr>\n",
       "  </tbody>\n",
       "</table>\n",
       "<p>252 rows × 319 columns</p>\n",
       "</div>"
      ],
      "text/plain": [
       "     Labels     ACAN      AGER      ALPK1    ANKRD17     APOB      APPL1  \\\n",
       "0         0  13.6584   88.0205   402.5420  1424.2625   3.7940  1001.2330   \n",
       "1         0  22.0844   86.3807   690.4861  2226.3285  20.4071   486.9744   \n",
       "2         0  32.7422   53.0820   128.4882  1073.0497   0.0000   654.8431   \n",
       "3         0  22.7975   42.1175   634.0804  3285.5487   0.0000   574.9614   \n",
       "4         0   2.5000  134.0625   532.1875   936.5625   0.0000  1933.4375   \n",
       "..      ...      ...       ...        ...        ...      ...        ...   \n",
       "247       1  61.3497  209.2706   300.6135   676.8916   4.0900   866.3940   \n",
       "248       1  25.0447   89.7436  1050.3876  1677.6983   0.0000  1019.0817   \n",
       "249       0  18.8321   50.5493   631.0399  1997.8525   0.3304   821.6734   \n",
       "250       0  17.2414   92.8100   825.3852  2262.6559   0.3668  1421.8635   \n",
       "251       0  30.6291   96.0265   541.6667  2443.4327   0.2759  2218.5403   \n",
       "\n",
       "         APPL2      ARRB2    ASGR1  ...      UBE2N     UBE2V1     UBQLN1  \\\n",
       "0     508.0148   567.2010  13.6584  ...  2437.6363  3413.2107  4135.4453   \n",
       "1    1448.0640   651.9083  11.1820  ...  2153.9253  1817.3762  3426.4325   \n",
       "2     492.6206   512.9604  13.8906  ...  3122.4110  3720.6995  3000.3721   \n",
       "3     513.9104  1033.2303  31.6847  ...  2663.4467  3217.9212  4131.3756   \n",
       "4     679.3750  1175.6250   6.5625  ...  1898.4375  3009.1375  2549.3750   \n",
       "..         ...        ...      ...  ...        ...        ...        ...   \n",
       "247   836.4008   903.8855  40.8998  ...  2700.7498  2858.8957  1663.9400   \n",
       "248  2058.1395  2086.4639   3.8760  ...  1367.0244  2176.7352  2595.4085   \n",
       "249   941.9344   912.1996  17.8409  ...  2085.7355  2405.6562  3461.1382   \n",
       "250   960.7483  1231.1079   2.9347  ...  2774.0279  2888.9142  4561.6288   \n",
       "251  1235.9272   961.6446   4.4150  ...  2553.8079  2839.9558  4388.2450   \n",
       "\n",
       "          UFD1    UNC93B1  USP17L2       VCAN      WDFY1       XIAP    ZCCHC3  \n",
       "0     950.0104  1434.1269   0.0000    31.8695   923.0769  1046.0021  819.1217  \n",
       "1    1380.1196   815.7241   0.0000  1651.0166  1473.7825  1618.8684  615.8465  \n",
       "2    2681.3791  1429.2447   0.4961   693.5384   477.2417  1064.6161  804.1672  \n",
       "3    1178.8640  1018.5471   0.0000   675.0386  1596.5997  1666.1515  402.6275  \n",
       "4    1293.1156   744.6875   0.0000    69.0625  1651.5625  1250.3125  982.5000  \n",
       "..         ...        ...      ...        ...        ...        ...       ...  \n",
       "247  2168.3640  1858.2140   0.0000   441.0361   586.9121   583.5037  732.1063  \n",
       "248  1222.4120  2648.4794   0.0000   471.9738  1548.5987  1888.4914  788.6106  \n",
       "249  1596.0981   665.7306   0.3304  1272.3218   763.8556  1522.4250  347.2371  \n",
       "250  1594.2296   653.7051   0.0000   392.5165  2422.9640  1749.0829  768.1585  \n",
       "251  1104.2908   602.6490   0.0000   411.4238   835.5408  1103.2009  713.3002  \n",
       "\n",
       "[252 rows x 319 columns]"
      ]
     },
     "execution_count": 5,
     "metadata": {},
     "output_type": "execute_result"
    }
   ],
   "source": [
    "kaggle_train_aac"
   ]
  },
  {
   "cell_type": "code",
   "execution_count": 7,
   "id": "30542899",
   "metadata": {},
   "outputs": [],
   "source": [
    "Y=kaggle_train_aac.Labels"
   ]
  },
  {
   "cell_type": "code",
   "execution_count": 10,
   "id": "97bb136e",
   "metadata": {},
   "outputs": [],
   "source": [
    "X = kaggle_train_aac.drop(columns=['Labels'])"
   ]
  },
  {
   "cell_type": "code",
   "execution_count": 11,
   "id": "629ecba2",
   "metadata": {},
   "outputs": [
    {
     "data": {
      "text/plain": [
       "RandomForestClassifier(max_depth=2, random_state=0)"
      ]
     },
     "execution_count": 11,
     "metadata": {},
     "output_type": "execute_result"
    }
   ],
   "source": [
    "from sklearn.ensemble import RandomForestClassifier\n",
    "clf = RandomForestClassifier(max_depth=2, random_state=0)\n",
    "clf.fit(X, Y)"
   ]
  },
  {
   "cell_type": "code",
   "execution_count": 13,
   "id": "a6ccb715",
   "metadata": {},
   "outputs": [],
   "source": [
    "kaggle_test_aac = pd.read_csv('kaggle_test.csv')\n",
    "testing_data = kaggle_test_aac.drop(columns=['ID'])"
   ]
  },
  {
   "cell_type": "code",
   "execution_count": 15,
   "id": "045aaeef",
   "metadata": {},
   "outputs": [],
   "source": [
    "test_Y = clf.predict_proba(testing_data)[:,1]"
   ]
  },
  {
   "cell_type": "code",
   "execution_count": 28,
   "id": "8babe46f",
   "metadata": {},
   "outputs": [],
   "source": [
    "test_Y\n",
    "aa=(test_Y>0.5).astype(int)"
   ]
  },
  {
   "cell_type": "code",
   "execution_count": 29,
   "id": "47c20b9b",
   "metadata": {
    "scrolled": true
   },
   "outputs": [
    {
     "data": {
      "text/plain": [
       "array([0, 0, 1, 0, 1, 0, 1, 1, 1, 0, 0, 0, 1, 1, 1, 0, 1, 0, 0, 0, 0, 0,\n",
       "       0, 1, 0, 0, 1, 0, 1, 0, 0, 0, 0, 1, 0, 0, 0, 0, 0, 0, 0, 0, 1, 1,\n",
       "       0, 0, 0, 0, 0, 0, 1, 1, 0, 0, 1, 0, 0, 1, 1, 0, 1, 0, 0, 1, 1, 1,\n",
       "       1, 1, 1, 0, 1, 1, 0, 0, 1, 1, 0, 0, 1, 0, 0, 0, 1, 1, 0, 0, 1, 1,\n",
       "       0, 0, 1, 1, 1, 1, 1, 1, 0, 0, 0, 0, 1, 0, 1, 0])"
      ]
     },
     "execution_count": 29,
     "metadata": {},
     "output_type": "execute_result"
    }
   ],
   "source": [
    "aa"
   ]
  },
  {
   "cell_type": "code",
   "execution_count": 31,
   "id": "6cf29ab8",
   "metadata": {},
   "outputs": [],
   "source": [
    "to_upload = pd.DataFrame(aa)\n",
    "cc = [1000+i+1 for i in range(105)]\n",
    "dd = pd.concat([pd.DataFrame(cc),pd.DataFrame(to_upload)],axis=1)\n",
    "dd.columns = ['ID','Labels']\n",
    "dd.to_csv(\"second_run.csv\", index=False)"
   ]
  },
  {
   "cell_type": "code",
   "execution_count": 16,
   "id": "0e46c8d5",
   "metadata": {},
   "outputs": [],
   "source": [
    "df_test = kaggle_test_aac[['ID']]"
   ]
  },
  {
   "cell_type": "code",
   "execution_count": 18,
   "id": "4be8d162",
   "metadata": {},
   "outputs": [
    {
     "name": "stderr",
     "output_type": "stream",
     "text": [
      "/var/folders/px/t3y_9w795y96ggv476lfg7dh0000gn/T/ipykernel_16103/495855424.py:1: SettingWithCopyWarning: \n",
      "A value is trying to be set on a copy of a slice from a DataFrame.\n",
      "Try using .loc[row_indexer,col_indexer] = value instead\n",
      "\n",
      "See the caveats in the documentation: https://pandas.pydata.org/pandas-docs/stable/user_guide/indexing.html#returning-a-view-versus-a-copy\n",
      "  df_test['Labels'] = test_Y\n"
     ]
    }
   ],
   "source": [
    "df_test['Labels'] = test_Y"
   ]
  },
  {
   "cell_type": "code",
   "execution_count": 32,
   "id": "0dc6af86",
   "metadata": {},
   "outputs": [],
   "source": [
    "from sklearn.model_selection import train_test_split"
   ]
  },
  {
   "cell_type": "code",
   "execution_count": 33,
   "id": "9c8b73c0",
   "metadata": {},
   "outputs": [
    {
     "ename": "NameError",
     "evalue": "name 'X_valid' is not defined",
     "output_type": "error",
     "traceback": [
      "\u001b[0;31m---------------------------------------------------------------------------\u001b[0m",
      "\u001b[0;31mNameError\u001b[0m                                 Traceback (most recent call last)",
      "Input \u001b[0;32mIn [33]\u001b[0m, in \u001b[0;36m<cell line: 1>\u001b[0;34m()\u001b[0m\n\u001b[0;32m----> 1\u001b[0m \u001b[43mX_valid\u001b[49m\u001b[38;5;241m.\u001b[39mshape\n",
      "\u001b[0;31mNameError\u001b[0m: name 'X_valid' is not defined"
     ]
    }
   ],
   "source": [
    "X_valid.shape"
   ]
  },
  {
   "cell_type": "code",
   "execution_count": 34,
   "id": "ab654595",
   "metadata": {},
   "outputs": [],
   "source": [
    "X_train, X_valid, y_train, y_valid = train_test_split(\n",
    "    X, Y, test_size=0.2, random_state=42)"
   ]
  },
  {
   "cell_type": "code",
   "execution_count": 35,
   "id": "02365dfd",
   "metadata": {},
   "outputs": [
    {
     "data": {
      "text/plain": [
       "165    0\n",
       "6      0\n",
       "111    0\n",
       "172    0\n",
       "115    1\n",
       "183    1\n",
       "199    1\n",
       "235    0\n",
       "9      1\n",
       "30     1\n",
       "60     1\n",
       "218    0\n",
       "226    1\n",
       "159    0\n",
       "68     0\n",
       "148    1\n",
       "196    1\n",
       "15     1\n",
       "101    1\n",
       "24     0\n",
       "86     0\n",
       "19     1\n",
       "117    1\n",
       "124    0\n",
       "33     1\n",
       "242    1\n",
       "186    0\n",
       "219    0\n",
       "10     0\n",
       "162    1\n",
       "140    1\n",
       "96     0\n",
       "125    0\n",
       "82     1\n",
       "213    1\n",
       "25     0\n",
       "109    1\n",
       "18     1\n",
       "205    1\n",
       "182    0\n",
       "67     0\n",
       "132    1\n",
       "156    0\n",
       "143    0\n",
       "45     1\n",
       "178    1\n",
       "16     1\n",
       "66     1\n",
       "142    0\n",
       "175    1\n",
       "38     0\n",
       "Name: Labels, dtype: int64"
      ]
     },
     "execution_count": 35,
     "metadata": {},
     "output_type": "execute_result"
    }
   ],
   "source": [
    "y_valid"
   ]
  },
  {
   "cell_type": "code",
   "execution_count": 36,
   "id": "dc7b141d",
   "metadata": {},
   "outputs": [],
   "source": [
    "import numpy as np\n",
    "from sklearn.model_selection import StratifiedKFold"
   ]
  },
  {
   "cell_type": "code",
   "execution_count": 37,
   "id": "ffb0ea8f",
   "metadata": {},
   "outputs": [
    {
     "data": {
      "text/plain": [
       "((201, 318), (201,))"
      ]
     },
     "execution_count": 37,
     "metadata": {},
     "output_type": "execute_result"
    }
   ],
   "source": [
    "X_train.shape , y_train.shape"
   ]
  },
  {
   "cell_type": "code",
   "execution_count": 38,
   "id": "45d26d1a",
   "metadata": {},
   "outputs": [],
   "source": [
    "from sklearn.model_selection import cross_val_score"
   ]
  },
  {
   "cell_type": "code",
   "execution_count": 39,
   "id": "7a095db0",
   "metadata": {},
   "outputs": [
    {
     "data": {
      "text/plain": [
       "dict_keys(['explained_variance', 'r2', 'max_error', 'neg_median_absolute_error', 'neg_mean_absolute_error', 'neg_mean_absolute_percentage_error', 'neg_mean_squared_error', 'neg_mean_squared_log_error', 'neg_root_mean_squared_error', 'neg_mean_poisson_deviance', 'neg_mean_gamma_deviance', 'accuracy', 'top_k_accuracy', 'roc_auc', 'roc_auc_ovr', 'roc_auc_ovo', 'roc_auc_ovr_weighted', 'roc_auc_ovo_weighted', 'balanced_accuracy', 'average_precision', 'neg_log_loss', 'neg_brier_score', 'adjusted_rand_score', 'rand_score', 'homogeneity_score', 'completeness_score', 'v_measure_score', 'mutual_info_score', 'adjusted_mutual_info_score', 'normalized_mutual_info_score', 'fowlkes_mallows_score', 'precision', 'precision_macro', 'precision_micro', 'precision_samples', 'precision_weighted', 'recall', 'recall_macro', 'recall_micro', 'recall_samples', 'recall_weighted', 'f1', 'f1_macro', 'f1_micro', 'f1_samples', 'f1_weighted', 'jaccard', 'jaccard_macro', 'jaccard_micro', 'jaccard_samples', 'jaccard_weighted'])"
      ]
     },
     "execution_count": 39,
     "metadata": {},
     "output_type": "execute_result"
    }
   ],
   "source": [
    "skl.metrics.SCORERS.keys()"
   ]
  },
  {
   "cell_type": "code",
   "execution_count": 40,
   "id": "b95772fd",
   "metadata": {},
   "outputs": [
    {
     "data": {
      "text/plain": [
       "array([0.51247772, 0.59536542, 0.73262032])"
      ]
     },
     "execution_count": 40,
     "metadata": {},
     "output_type": "execute_result"
    }
   ],
   "source": [
    "clf = svm.SVC(kernel='linear', C=1, random_state=42)\n",
    "scores = cross_val_score(clf, X_train, y_train, cv=3, scoring='roc_auc')\n",
    "scores"
   ]
  },
  {
   "cell_type": "code",
   "execution_count": 41,
   "id": "88a0fd3b",
   "metadata": {},
   "outputs": [
    {
     "data": {
      "text/plain": [
       "0.6134878193701724"
      ]
     },
     "execution_count": 41,
     "metadata": {},
     "output_type": "execute_result"
    }
   ],
   "source": [
    "np.mean(scores)"
   ]
  },
  {
   "cell_type": "code",
   "execution_count": 42,
   "id": "98eda31c",
   "metadata": {},
   "outputs": [],
   "source": [
    "X_train.reset_index(drop=True, inplace=True)\n",
    "y_train.reset_index(drop=True, inplace=True)"
   ]
  },
  {
   "cell_type": "code",
   "execution_count": null,
   "id": "ea0ff2f9",
   "metadata": {},
   "outputs": [],
   "source": []
  },
  {
   "cell_type": "code",
   "execution_count": 43,
   "id": "2a02a365",
   "metadata": {},
   "outputs": [
    {
     "data": {
      "text/plain": [
       "0.6100000000000001"
      ]
     },
     "execution_count": 43,
     "metadata": {},
     "output_type": "execute_result"
    }
   ],
   "source": [
    "from  sklearn.model_selection import StratifiedKFold, KFold\n",
    "import numpy as np\n",
    "from sklearn.metrics import roc_auc_score\n",
    "skf = StratifiedKFold(n_splits=5)\n",
    "clf = svm.SVC(kernel='linear', C=1, random_state=100, probability=True)\n",
    "auc_scores=[]\n",
    "for train, test in skf.split(X_train, y_train):\n",
    "    train_X = X_train.iloc[train,:]\n",
    "    test_X = X_train.iloc[test]\n",
    "    train_y = y_train[train]\n",
    "    test_y = y_train[test]\n",
    "    clf.fit(train_X, train_y)\n",
    "    predict_y = clf.predict_proba(test_X)[:,1]\n",
    "    auc_scores.append(roc_auc_score(test_y, predict_y))\n",
    "np.array(auc_scores).mean()"
   ]
  },
  {
   "cell_type": "code",
   "execution_count": 44,
   "id": "14f7ad6a",
   "metadata": {},
   "outputs": [
    {
     "data": {
      "text/plain": [
       "[0.6000000000000001, 0.5925, 0.5725, 0.7024999999999999, 0.5825]"
      ]
     },
     "execution_count": 44,
     "metadata": {},
     "output_type": "execute_result"
    }
   ],
   "source": [
    "auc_scores"
   ]
  },
  {
   "cell_type": "code",
   "execution_count": 45,
   "id": "9e4d3117",
   "metadata": {},
   "outputs": [
    {
     "data": {
      "text/plain": [
       "0.6211180124223603"
      ]
     },
     "execution_count": 45,
     "metadata": {},
     "output_type": "execute_result"
    }
   ],
   "source": [
    "predict_y = clf.predict_proba(X_valid)[:,1]\n",
    "roc_auc_score(y_valid, predict_y)"
   ]
  },
  {
   "cell_type": "code",
   "execution_count": 55,
   "id": "4c18c71d",
   "metadata": {},
   "outputs": [],
   "source": [
    "predict_z = clf.predict_proba(testing_data)[:,1]"
   ]
  },
  {
   "cell_type": "code",
   "execution_count": 56,
   "id": "f147004c",
   "metadata": {},
   "outputs": [],
   "source": [
    "aa=(predict_z>0.5).astype(int)"
   ]
  },
  {
   "cell_type": "code",
   "execution_count": 57,
   "id": "603b4855",
   "metadata": {},
   "outputs": [],
   "source": [
    "to_upload = pd.DataFrame(aa)\n",
    "cc = [1000+i+1 for i in range(len(kaggle_test_aac))]\n",
    "dd = pd.concat([pd.DataFrame(cc),pd.DataFrame(to_upload)],axis=1)\n",
    "dd.columns = ['ID','Labels']"
   ]
  },
  {
   "cell_type": "code",
   "execution_count": 58,
   "id": "23afe360",
   "metadata": {},
   "outputs": [],
   "source": [
    "dd.to_csv('third_run.csv', index=None)"
   ]
  },
  {
   "cell_type": "code",
   "execution_count": null,
   "id": "ce4a4376",
   "metadata": {},
   "outputs": [],
   "source": []
  },
  {
   "cell_type": "code",
   "execution_count": null,
   "id": "5e2baef5",
   "metadata": {},
   "outputs": [],
   "source": []
  },
  {
   "cell_type": "markdown",
   "id": "695cf1de",
   "metadata": {},
   "source": [
    "# First run"
   ]
  },
  {
   "cell_type": "code",
   "execution_count": 59,
   "id": "5e595f4e",
   "metadata": {},
   "outputs": [],
   "source": [
    "from sklearn import tree\n",
    "clf = tree.DecisionTreeClassifier()\n",
    "clf = clf.fit(X, Y)"
   ]
  },
  {
   "cell_type": "code",
   "execution_count": 65,
   "id": "65a7028f",
   "metadata": {},
   "outputs": [],
   "source": [
    "X_train.reset_index(drop=True,inplace=True)\n",
    "y_train.reset_index(drop=True,inplace=True)"
   ]
  },
  {
   "cell_type": "code",
   "execution_count": 69,
   "id": "855f851e",
   "metadata": {},
   "outputs": [
    {
     "data": {
      "text/html": [
       "<div>\n",
       "<style scoped>\n",
       "    .dataframe tbody tr th:only-of-type {\n",
       "        vertical-align: middle;\n",
       "    }\n",
       "\n",
       "    .dataframe tbody tr th {\n",
       "        vertical-align: top;\n",
       "    }\n",
       "\n",
       "    .dataframe thead th {\n",
       "        text-align: right;\n",
       "    }\n",
       "</style>\n",
       "<table border=\"1\" class=\"dataframe\">\n",
       "  <thead>\n",
       "    <tr style=\"text-align: right;\">\n",
       "      <th></th>\n",
       "      <th>ACAN</th>\n",
       "      <th>AGER</th>\n",
       "      <th>ALPK1</th>\n",
       "      <th>ANKRD17</th>\n",
       "      <th>APOB</th>\n",
       "      <th>APPL1</th>\n",
       "      <th>APPL2</th>\n",
       "      <th>ARRB2</th>\n",
       "      <th>ASGR1</th>\n",
       "      <th>ASGR2</th>\n",
       "      <th>...</th>\n",
       "      <th>UBE2N</th>\n",
       "      <th>UBE2V1</th>\n",
       "      <th>UBQLN1</th>\n",
       "      <th>UFD1</th>\n",
       "      <th>UNC93B1</th>\n",
       "      <th>USP17L2</th>\n",
       "      <th>VCAN</th>\n",
       "      <th>WDFY1</th>\n",
       "      <th>XIAP</th>\n",
       "      <th>ZCCHC3</th>\n",
       "    </tr>\n",
       "  </thead>\n",
       "  <tbody>\n",
       "    <tr>\n",
       "      <th>0</th>\n",
       "      <td>44.1211</td>\n",
       "      <td>76.6643</td>\n",
       "      <td>1040.4443</td>\n",
       "      <td>1981.6944</td>\n",
       "      <td>0.6258</td>\n",
       "      <td>1356.1762</td>\n",
       "      <td>519.1270</td>\n",
       "      <td>1425.9563</td>\n",
       "      <td>33.7949</td>\n",
       "      <td>32.8561</td>\n",
       "      <td>...</td>\n",
       "      <td>2187.9058</td>\n",
       "      <td>3674.0734</td>\n",
       "      <td>2921.6929</td>\n",
       "      <td>1793.6228</td>\n",
       "      <td>1523.5860</td>\n",
       "      <td>0.3129</td>\n",
       "      <td>5315.4971</td>\n",
       "      <td>2514.5897</td>\n",
       "      <td>921.5364</td>\n",
       "      <td>564.4997</td>\n",
       "    </tr>\n",
       "    <tr>\n",
       "      <th>1</th>\n",
       "      <td>13.1116</td>\n",
       "      <td>24.9440</td>\n",
       "      <td>384.7138</td>\n",
       "      <td>2125.0400</td>\n",
       "      <td>0.0000</td>\n",
       "      <td>1839.7825</td>\n",
       "      <td>1204.9888</td>\n",
       "      <td>554.8449</td>\n",
       "      <td>3.8375</td>\n",
       "      <td>2.8782</td>\n",
       "      <td>...</td>\n",
       "      <td>2344.0998</td>\n",
       "      <td>1727.8414</td>\n",
       "      <td>3106.4918</td>\n",
       "      <td>1180.0352</td>\n",
       "      <td>554.8449</td>\n",
       "      <td>0.3198</td>\n",
       "      <td>469.7793</td>\n",
       "      <td>1625.8395</td>\n",
       "      <td>1488.3275</td>\n",
       "      <td>316.2776</td>\n",
       "    </tr>\n",
       "    <tr>\n",
       "      <th>2</th>\n",
       "      <td>45.6118</td>\n",
       "      <td>46.2410</td>\n",
       "      <td>289.7137</td>\n",
       "      <td>2054.7342</td>\n",
       "      <td>3.1456</td>\n",
       "      <td>1212.6455</td>\n",
       "      <td>833.5955</td>\n",
       "      <td>568.7323</td>\n",
       "      <td>10.3806</td>\n",
       "      <td>3.4602</td>\n",
       "      <td>...</td>\n",
       "      <td>2074.8663</td>\n",
       "      <td>3581.3023</td>\n",
       "      <td>2382.5102</td>\n",
       "      <td>1289.0783</td>\n",
       "      <td>384.0830</td>\n",
       "      <td>0.0000</td>\n",
       "      <td>13716.8921</td>\n",
       "      <td>1078.0120</td>\n",
       "      <td>2055.6779</td>\n",
       "      <td>631.0160</td>\n",
       "    </tr>\n",
       "    <tr>\n",
       "      <th>3</th>\n",
       "      <td>16.5306</td>\n",
       "      <td>20.7384</td>\n",
       "      <td>625.7589</td>\n",
       "      <td>2485.3028</td>\n",
       "      <td>0.6011</td>\n",
       "      <td>693.9853</td>\n",
       "      <td>969.5957</td>\n",
       "      <td>756.5010</td>\n",
       "      <td>16.5306</td>\n",
       "      <td>0.9017</td>\n",
       "      <td>...</td>\n",
       "      <td>2788.8650</td>\n",
       "      <td>3280.2029</td>\n",
       "      <td>3396.2899</td>\n",
       "      <td>1823.1705</td>\n",
       "      <td>933.5289</td>\n",
       "      <td>0.0000</td>\n",
       "      <td>482.3934</td>\n",
       "      <td>721.9370</td>\n",
       "      <td>1613.3880</td>\n",
       "      <td>453.5400</td>\n",
       "    </tr>\n",
       "    <tr>\n",
       "      <th>4</th>\n",
       "      <td>154.7428</td>\n",
       "      <td>103.6977</td>\n",
       "      <td>247.1865</td>\n",
       "      <td>807.4759</td>\n",
       "      <td>0.4019</td>\n",
       "      <td>702.9743</td>\n",
       "      <td>508.0386</td>\n",
       "      <td>865.3537</td>\n",
       "      <td>30.5466</td>\n",
       "      <td>8.0386</td>\n",
       "      <td>...</td>\n",
       "      <td>2580.3859</td>\n",
       "      <td>4031.7524</td>\n",
       "      <td>3923.2315</td>\n",
       "      <td>2310.6873</td>\n",
       "      <td>1168.4084</td>\n",
       "      <td>0.0000</td>\n",
       "      <td>1757.2347</td>\n",
       "      <td>690.5145</td>\n",
       "      <td>945.3376</td>\n",
       "      <td>793.8103</td>\n",
       "    </tr>\n",
       "    <tr>\n",
       "      <th>...</th>\n",
       "      <td>...</td>\n",
       "      <td>...</td>\n",
       "      <td>...</td>\n",
       "      <td>...</td>\n",
       "      <td>...</td>\n",
       "      <td>...</td>\n",
       "      <td>...</td>\n",
       "      <td>...</td>\n",
       "      <td>...</td>\n",
       "      <td>...</td>\n",
       "      <td>...</td>\n",
       "      <td>...</td>\n",
       "      <td>...</td>\n",
       "      <td>...</td>\n",
       "      <td>...</td>\n",
       "      <td>...</td>\n",
       "      <td>...</td>\n",
       "      <td>...</td>\n",
       "      <td>...</td>\n",
       "      <td>...</td>\n",
       "      <td>...</td>\n",
       "    </tr>\n",
       "    <tr>\n",
       "      <th>196</th>\n",
       "      <td>369.5060</td>\n",
       "      <td>158.6931</td>\n",
       "      <td>681.8359</td>\n",
       "      <td>1826.5266</td>\n",
       "      <td>0.3890</td>\n",
       "      <td>1767.7946</td>\n",
       "      <td>730.8440</td>\n",
       "      <td>468.6892</td>\n",
       "      <td>28.0047</td>\n",
       "      <td>3.1116</td>\n",
       "      <td>...</td>\n",
       "      <td>3489.3038</td>\n",
       "      <td>2117.8530</td>\n",
       "      <td>3339.9455</td>\n",
       "      <td>1487.3590</td>\n",
       "      <td>239.9844</td>\n",
       "      <td>0.0000</td>\n",
       "      <td>960.7157</td>\n",
       "      <td>1209.2571</td>\n",
       "      <td>1067.2890</td>\n",
       "      <td>1055.6204</td>\n",
       "    </tr>\n",
       "    <tr>\n",
       "      <th>197</th>\n",
       "      <td>147.4978</td>\n",
       "      <td>300.7024</td>\n",
       "      <td>641.3521</td>\n",
       "      <td>1165.0571</td>\n",
       "      <td>0.4390</td>\n",
       "      <td>658.0334</td>\n",
       "      <td>699.7366</td>\n",
       "      <td>420.9833</td>\n",
       "      <td>7.0237</td>\n",
       "      <td>2.1949</td>\n",
       "      <td>...</td>\n",
       "      <td>2223.0026</td>\n",
       "      <td>2777.0588</td>\n",
       "      <td>5190.9570</td>\n",
       "      <td>1703.6831</td>\n",
       "      <td>849.4293</td>\n",
       "      <td>0.0000</td>\n",
       "      <td>1702.3705</td>\n",
       "      <td>1396.4004</td>\n",
       "      <td>1478.9289</td>\n",
       "      <td>590.8692</td>\n",
       "    </tr>\n",
       "    <tr>\n",
       "      <th>198</th>\n",
       "      <td>26.3342</td>\n",
       "      <td>58.8318</td>\n",
       "      <td>44.2639</td>\n",
       "      <td>661.1570</td>\n",
       "      <td>0.5603</td>\n",
       "      <td>777.1397</td>\n",
       "      <td>535.0889</td>\n",
       "      <td>1495.4475</td>\n",
       "      <td>2.8015</td>\n",
       "      <td>1.1206</td>\n",
       "      <td>...</td>\n",
       "      <td>2274.2681</td>\n",
       "      <td>3895.2234</td>\n",
       "      <td>1603.5859</td>\n",
       "      <td>2339.2464</td>\n",
       "      <td>2005.8832</td>\n",
       "      <td>0.0000</td>\n",
       "      <td>531.1668</td>\n",
       "      <td>1018.0698</td>\n",
       "      <td>708.7827</td>\n",
       "      <td>1170.4721</td>\n",
       "    </tr>\n",
       "    <tr>\n",
       "      <th>199</th>\n",
       "      <td>202.5365</td>\n",
       "      <td>82.0063</td>\n",
       "      <td>101.4589</td>\n",
       "      <td>1230.8573</td>\n",
       "      <td>2.6700</td>\n",
       "      <td>1095.8329</td>\n",
       "      <td>2484.2186</td>\n",
       "      <td>527.1288</td>\n",
       "      <td>13.7313</td>\n",
       "      <td>3.8142</td>\n",
       "      <td>...</td>\n",
       "      <td>2334.7001</td>\n",
       "      <td>2370.5235</td>\n",
       "      <td>4404.3101</td>\n",
       "      <td>1740.4329</td>\n",
       "      <td>807.8573</td>\n",
       "      <td>0.0000</td>\n",
       "      <td>7289.7874</td>\n",
       "      <td>1231.2387</td>\n",
       "      <td>1445.9807</td>\n",
       "      <td>752.9322</td>\n",
       "    </tr>\n",
       "    <tr>\n",
       "      <th>200</th>\n",
       "      <td>2.6498</td>\n",
       "      <td>46.5600</td>\n",
       "      <td>853.2223</td>\n",
       "      <td>1550.4874</td>\n",
       "      <td>3.0283</td>\n",
       "      <td>375.1301</td>\n",
       "      <td>627.6143</td>\n",
       "      <td>801.7413</td>\n",
       "      <td>5.2995</td>\n",
       "      <td>10.5990</td>\n",
       "      <td>...</td>\n",
       "      <td>1968.0136</td>\n",
       "      <td>2558.5388</td>\n",
       "      <td>3056.3074</td>\n",
       "      <td>1362.3394</td>\n",
       "      <td>1016.3717</td>\n",
       "      <td>0.0000</td>\n",
       "      <td>1704.1734</td>\n",
       "      <td>810.0691</td>\n",
       "      <td>944.8282</td>\n",
       "      <td>554.5566</td>\n",
       "    </tr>\n",
       "  </tbody>\n",
       "</table>\n",
       "<p>201 rows × 318 columns</p>\n",
       "</div>"
      ],
      "text/plain": [
       "         ACAN      AGER      ALPK1    ANKRD17    APOB      APPL1      APPL2  \\\n",
       "0     44.1211   76.6643  1040.4443  1981.6944  0.6258  1356.1762   519.1270   \n",
       "1     13.1116   24.9440   384.7138  2125.0400  0.0000  1839.7825  1204.9888   \n",
       "2     45.6118   46.2410   289.7137  2054.7342  3.1456  1212.6455   833.5955   \n",
       "3     16.5306   20.7384   625.7589  2485.3028  0.6011   693.9853   969.5957   \n",
       "4    154.7428  103.6977   247.1865   807.4759  0.4019   702.9743   508.0386   \n",
       "..        ...       ...        ...        ...     ...        ...        ...   \n",
       "196  369.5060  158.6931   681.8359  1826.5266  0.3890  1767.7946   730.8440   \n",
       "197  147.4978  300.7024   641.3521  1165.0571  0.4390   658.0334   699.7366   \n",
       "198   26.3342   58.8318    44.2639   661.1570  0.5603   777.1397   535.0889   \n",
       "199  202.5365   82.0063   101.4589  1230.8573  2.6700  1095.8329  2484.2186   \n",
       "200    2.6498   46.5600   853.2223  1550.4874  3.0283   375.1301   627.6143   \n",
       "\n",
       "         ARRB2    ASGR1    ASGR2  ...      UBE2N     UBE2V1     UBQLN1  \\\n",
       "0    1425.9563  33.7949  32.8561  ...  2187.9058  3674.0734  2921.6929   \n",
       "1     554.8449   3.8375   2.8782  ...  2344.0998  1727.8414  3106.4918   \n",
       "2     568.7323  10.3806   3.4602  ...  2074.8663  3581.3023  2382.5102   \n",
       "3     756.5010  16.5306   0.9017  ...  2788.8650  3280.2029  3396.2899   \n",
       "4     865.3537  30.5466   8.0386  ...  2580.3859  4031.7524  3923.2315   \n",
       "..         ...      ...      ...  ...        ...        ...        ...   \n",
       "196   468.6892  28.0047   3.1116  ...  3489.3038  2117.8530  3339.9455   \n",
       "197   420.9833   7.0237   2.1949  ...  2223.0026  2777.0588  5190.9570   \n",
       "198  1495.4475   2.8015   1.1206  ...  2274.2681  3895.2234  1603.5859   \n",
       "199   527.1288  13.7313   3.8142  ...  2334.7001  2370.5235  4404.3101   \n",
       "200   801.7413   5.2995  10.5990  ...  1968.0136  2558.5388  3056.3074   \n",
       "\n",
       "          UFD1    UNC93B1  USP17L2        VCAN      WDFY1       XIAP  \\\n",
       "0    1793.6228  1523.5860   0.3129   5315.4971  2514.5897   921.5364   \n",
       "1    1180.0352   554.8449   0.3198    469.7793  1625.8395  1488.3275   \n",
       "2    1289.0783   384.0830   0.0000  13716.8921  1078.0120  2055.6779   \n",
       "3    1823.1705   933.5289   0.0000    482.3934   721.9370  1613.3880   \n",
       "4    2310.6873  1168.4084   0.0000   1757.2347   690.5145   945.3376   \n",
       "..         ...        ...      ...         ...        ...        ...   \n",
       "196  1487.3590   239.9844   0.0000    960.7157  1209.2571  1067.2890   \n",
       "197  1703.6831   849.4293   0.0000   1702.3705  1396.4004  1478.9289   \n",
       "198  2339.2464  2005.8832   0.0000    531.1668  1018.0698   708.7827   \n",
       "199  1740.4329   807.8573   0.0000   7289.7874  1231.2387  1445.9807   \n",
       "200  1362.3394  1016.3717   0.0000   1704.1734   810.0691   944.8282   \n",
       "\n",
       "        ZCCHC3  \n",
       "0     564.4997  \n",
       "1     316.2776  \n",
       "2     631.0160  \n",
       "3     453.5400  \n",
       "4     793.8103  \n",
       "..         ...  \n",
       "196  1055.6204  \n",
       "197   590.8692  \n",
       "198  1170.4721  \n",
       "199   752.9322  \n",
       "200   554.5566  \n",
       "\n",
       "[201 rows x 318 columns]"
      ]
     },
     "execution_count": 69,
     "metadata": {},
     "output_type": "execute_result"
    }
   ],
   "source": [
    "X_train"
   ]
  },
  {
   "cell_type": "code",
   "execution_count": 70,
   "id": "c6d421d2",
   "metadata": {},
   "outputs": [
    {
     "ename": "NameError",
     "evalue": "name 'X_test' is not defined",
     "output_type": "error",
     "traceback": [
      "\u001b[0;31m---------------------------------------------------------------------------\u001b[0m",
      "\u001b[0;31mNameError\u001b[0m                                 Traceback (most recent call last)",
      "Input \u001b[0;32mIn [70]\u001b[0m, in \u001b[0;36m<cell line: 1>\u001b[0;34m()\u001b[0m\n\u001b[0;32m----> 1\u001b[0m \u001b[43mX_test\u001b[49m\n",
      "\u001b[0;31mNameError\u001b[0m: name 'X_test' is not defined"
     ]
    }
   ],
   "source": [
    "X_test"
   ]
  },
  {
   "cell_type": "code",
   "execution_count": 68,
   "id": "d0dc2231",
   "metadata": {},
   "outputs": [
    {
     "name": "stdout",
     "output_type": "stream",
     "text": [
      "(201, 318)\n"
     ]
    },
    {
     "ename": "NameError",
     "evalue": "name 'X_test' is not defined",
     "output_type": "error",
     "traceback": [
      "\u001b[0;31m---------------------------------------------------------------------------\u001b[0m",
      "\u001b[0;31mNameError\u001b[0m                                 Traceback (most recent call last)",
      "Input \u001b[0;32mIn [68]\u001b[0m, in \u001b[0;36m<cell line: 2>\u001b[0;34m()\u001b[0m\n\u001b[1;32m      1\u001b[0m \u001b[38;5;28mprint\u001b[39m(X_train\u001b[38;5;241m.\u001b[39mshape)\n\u001b[0;32m----> 2\u001b[0m \u001b[38;5;28mprint\u001b[39m(\u001b[43mX_test\u001b[49m\u001b[38;5;241m.\u001b[39mshape)\n",
      "\u001b[0;31mNameError\u001b[0m: name 'X_test' is not defined"
     ]
    }
   ],
   "source": [
    "print(X_train.shape)\n",
    "print(X_test.shape)"
   ]
  },
  {
   "cell_type": "code",
   "execution_count": 71,
   "id": "b55fd0e5",
   "metadata": {},
   "outputs": [
    {
     "ename": "ValueError",
     "evalue": "Unknown label type: 'continuous'",
     "output_type": "error",
     "traceback": [
      "\u001b[0;31m---------------------------------------------------------------------------\u001b[0m",
      "\u001b[0;31mValueError\u001b[0m                                Traceback (most recent call last)",
      "Input \u001b[0;32mIn [71]\u001b[0m, in \u001b[0;36m<cell line: 2>\u001b[0;34m()\u001b[0m\n\u001b[1;32m      1\u001b[0m clf \u001b[38;5;241m=\u001b[39m RandomForestClassifier(max_depth\u001b[38;5;241m=\u001b[39m\u001b[38;5;241m2\u001b[39m, random_state\u001b[38;5;241m=\u001b[39m\u001b[38;5;241m0\u001b[39m)\n\u001b[0;32m----> 2\u001b[0m \u001b[43mclf\u001b[49m\u001b[38;5;241;43m.\u001b[39;49m\u001b[43mfit\u001b[49m\u001b[43m(\u001b[49m\u001b[43mX_train\u001b[49m\u001b[38;5;241;43m.\u001b[39;49m\u001b[43miloc\u001b[49m\u001b[43m[\u001b[49m\u001b[43m:\u001b[49m\u001b[43m,\u001b[49m\u001b[43m:\u001b[49m\u001b[38;5;241;43m-\u001b[39;49m\u001b[38;5;241;43m1\u001b[39;49m\u001b[43m]\u001b[49m\u001b[43m,\u001b[49m\u001b[43mX_train\u001b[49m\u001b[38;5;241;43m.\u001b[39;49m\u001b[43miloc\u001b[49m\u001b[43m[\u001b[49m\u001b[43m:\u001b[49m\u001b[43m,\u001b[49m\u001b[38;5;241;43m-\u001b[39;49m\u001b[38;5;241;43m1\u001b[39;49m\u001b[43m]\u001b[49m\u001b[43m)\u001b[49m\n",
      "File \u001b[0;32m~/opt/anaconda3/lib/python3.9/site-packages/sklearn/ensemble/_forest.py:367\u001b[0m, in \u001b[0;36mBaseForest.fit\u001b[0;34m(self, X, y, sample_weight)\u001b[0m\n\u001b[1;32m    360\u001b[0m         \u001b[38;5;28;01mraise\u001b[39;00m \u001b[38;5;167;01mValueError\u001b[39;00m(\n\u001b[1;32m    361\u001b[0m             \u001b[38;5;124m\"\u001b[39m\u001b[38;5;124mSum of y is not strictly positive which \u001b[39m\u001b[38;5;124m\"\u001b[39m\n\u001b[1;32m    362\u001b[0m             \u001b[38;5;124m\"\u001b[39m\u001b[38;5;124mis necessary for Poisson regression.\u001b[39m\u001b[38;5;124m\"\u001b[39m\n\u001b[1;32m    363\u001b[0m         )\n\u001b[1;32m    365\u001b[0m \u001b[38;5;28mself\u001b[39m\u001b[38;5;241m.\u001b[39mn_outputs_ \u001b[38;5;241m=\u001b[39m y\u001b[38;5;241m.\u001b[39mshape[\u001b[38;5;241m1\u001b[39m]\n\u001b[0;32m--> 367\u001b[0m y, expanded_class_weight \u001b[38;5;241m=\u001b[39m \u001b[38;5;28;43mself\u001b[39;49m\u001b[38;5;241;43m.\u001b[39;49m\u001b[43m_validate_y_class_weight\u001b[49m\u001b[43m(\u001b[49m\u001b[43my\u001b[49m\u001b[43m)\u001b[49m\n\u001b[1;32m    369\u001b[0m \u001b[38;5;28;01mif\u001b[39;00m \u001b[38;5;28mgetattr\u001b[39m(y, \u001b[38;5;124m\"\u001b[39m\u001b[38;5;124mdtype\u001b[39m\u001b[38;5;124m\"\u001b[39m, \u001b[38;5;28;01mNone\u001b[39;00m) \u001b[38;5;241m!=\u001b[39m DOUBLE \u001b[38;5;129;01mor\u001b[39;00m \u001b[38;5;129;01mnot\u001b[39;00m y\u001b[38;5;241m.\u001b[39mflags\u001b[38;5;241m.\u001b[39mcontiguous:\n\u001b[1;32m    370\u001b[0m     y \u001b[38;5;241m=\u001b[39m np\u001b[38;5;241m.\u001b[39mascontiguousarray(y, dtype\u001b[38;5;241m=\u001b[39mDOUBLE)\n",
      "File \u001b[0;32m~/opt/anaconda3/lib/python3.9/site-packages/sklearn/ensemble/_forest.py:734\u001b[0m, in \u001b[0;36mForestClassifier._validate_y_class_weight\u001b[0;34m(self, y)\u001b[0m\n\u001b[1;32m    733\u001b[0m \u001b[38;5;28;01mdef\u001b[39;00m \u001b[38;5;21m_validate_y_class_weight\u001b[39m(\u001b[38;5;28mself\u001b[39m, y):\n\u001b[0;32m--> 734\u001b[0m     \u001b[43mcheck_classification_targets\u001b[49m\u001b[43m(\u001b[49m\u001b[43my\u001b[49m\u001b[43m)\u001b[49m\n\u001b[1;32m    736\u001b[0m     y \u001b[38;5;241m=\u001b[39m np\u001b[38;5;241m.\u001b[39mcopy(y)\n\u001b[1;32m    737\u001b[0m     expanded_class_weight \u001b[38;5;241m=\u001b[39m \u001b[38;5;28;01mNone\u001b[39;00m\n",
      "File \u001b[0;32m~/opt/anaconda3/lib/python3.9/site-packages/sklearn/utils/multiclass.py:197\u001b[0m, in \u001b[0;36mcheck_classification_targets\u001b[0;34m(y)\u001b[0m\n\u001b[1;32m    189\u001b[0m y_type \u001b[38;5;241m=\u001b[39m type_of_target(y)\n\u001b[1;32m    190\u001b[0m \u001b[38;5;28;01mif\u001b[39;00m y_type \u001b[38;5;129;01mnot\u001b[39;00m \u001b[38;5;129;01min\u001b[39;00m [\n\u001b[1;32m    191\u001b[0m     \u001b[38;5;124m\"\u001b[39m\u001b[38;5;124mbinary\u001b[39m\u001b[38;5;124m\"\u001b[39m,\n\u001b[1;32m    192\u001b[0m     \u001b[38;5;124m\"\u001b[39m\u001b[38;5;124mmulticlass\u001b[39m\u001b[38;5;124m\"\u001b[39m,\n\u001b[0;32m   (...)\u001b[0m\n\u001b[1;32m    195\u001b[0m     \u001b[38;5;124m\"\u001b[39m\u001b[38;5;124mmultilabel-sequences\u001b[39m\u001b[38;5;124m\"\u001b[39m,\n\u001b[1;32m    196\u001b[0m ]:\n\u001b[0;32m--> 197\u001b[0m     \u001b[38;5;28;01mraise\u001b[39;00m \u001b[38;5;167;01mValueError\u001b[39;00m(\u001b[38;5;124m\"\u001b[39m\u001b[38;5;124mUnknown label type: \u001b[39m\u001b[38;5;132;01m%r\u001b[39;00m\u001b[38;5;124m\"\u001b[39m \u001b[38;5;241m%\u001b[39m y_type)\n",
      "\u001b[0;31mValueError\u001b[0m: Unknown label type: 'continuous'"
     ]
    }
   ],
   "source": [
    "clf = RandomForestClassifier(max_depth=2, random_state=0)\n",
    "clf.fit(X_train.iloc[:,:-1],X_train.iloc[:,-1])"
   ]
  },
  {
   "cell_type": "code",
   "execution_count": null,
   "id": "246ea578",
   "metadata": {},
   "outputs": [],
   "source": [
    "clf = RandomForestClassifier(max_depth=2, random_state=0)\n",
    "clf.fit(df_1.iloc[:,:-1],df_1.iloc[:,-1])"
   ]
  },
  {
   "cell_type": "code",
   "execution_count": null,
   "id": "cb97651f",
   "metadata": {},
   "outputs": [],
   "source": [
    "clf.predict(df_1.iloc[:,:-1])"
   ]
  },
  {
   "cell_type": "code",
   "execution_count": null,
   "id": "7709a559",
   "metadata": {},
   "outputs": [],
   "source": []
  },
  {
   "cell_type": "code",
   "execution_count": null,
   "id": "bd266692",
   "metadata": {},
   "outputs": [],
   "source": [
    "clf.predict(X_test.iloc[:,:-1])"
   ]
  },
  {
   "cell_type": "code",
   "execution_count": null,
   "id": "7dfbcc0a",
   "metadata": {},
   "outputs": [],
   "source": [
    "X_test.iloc[:,:-1]"
   ]
  },
  {
   "cell_type": "code",
   "execution_count": null,
   "id": "78464564",
   "metadata": {},
   "outputs": [],
   "source": [
    "XX = pd.DataFrame(clf.predict(kaggle_test_aac.iloc[:,1:]))"
   ]
  },
  {
   "cell_type": "code",
   "execution_count": null,
   "id": "4a429591",
   "metadata": {},
   "outputs": [],
   "source": [
    "cc = [10000+i+1 for i in range(len(kaggle_test_aac))]"
   ]
  },
  {
   "cell_type": "code",
   "execution_count": null,
   "id": "8b86b1d1",
   "metadata": {},
   "outputs": [],
   "source": [
    "dd = pd.concat([pd.DataFrame(cc),pd.DataFrame(XX)],axis=1)"
   ]
  },
  {
   "cell_type": "code",
   "execution_count": null,
   "id": "0783872e",
   "metadata": {},
   "outputs": [],
   "source": [
    "dd.columns = ['ID','Label']"
   ]
  },
  {
   "cell_type": "code",
   "execution_count": null,
   "id": "537aeba3",
   "metadata": {},
   "outputs": [],
   "source": [
    "dd.to_csv('First_run.csv', index=None)"
   ]
  },
  {
   "cell_type": "code",
   "execution_count": null,
   "id": "3195fcba",
   "metadata": {},
   "outputs": [],
   "source": []
  },
  {
   "cell_type": "code",
   "execution_count": null,
   "id": "7c179bad",
   "metadata": {},
   "outputs": [],
   "source": []
  },
  {
   "cell_type": "markdown",
   "id": "fb875f55",
   "metadata": {},
   "source": [
    "#  *Fifth run*"
   ]
  },
  {
   "cell_type": "code",
   "execution_count": 72,
   "id": "31f97629",
   "metadata": {},
   "outputs": [],
   "source": [
    "df_1 = kaggle_train_aac.iloc[:,1:]"
   ]
  },
  {
   "cell_type": "code",
   "execution_count": 73,
   "id": "84683a6a",
   "metadata": {},
   "outputs": [
    {
     "ename": "SyntaxError",
     "evalue": "invalid syntax (929684395.py, line 2)",
     "output_type": "error",
     "traceback": [
      "\u001b[0;36m  Input \u001b[0;32mIn [73]\u001b[0;36m\u001b[0m\n\u001b[0;31m    clf.fit(df_1.,)\u001b[0m\n\u001b[0m                 ^\u001b[0m\n\u001b[0;31mSyntaxError\u001b[0m\u001b[0;31m:\u001b[0m invalid syntax\n"
     ]
    }
   ],
   "source": [
    "clf = RandomForestClassifier(max_depth=2, random_state=0)\n",
    "clf.fit(df_1.,)"
   ]
  },
  {
   "cell_type": "code",
   "execution_count": 74,
   "id": "a7ba2313",
   "metadata": {},
   "outputs": [
    {
     "data": {
      "text/plain": [
       "0.5263636363636363"
      ]
     },
     "execution_count": 74,
     "metadata": {},
     "output_type": "execute_result"
    }
   ],
   "source": [
    "from sklearn.neural_network import MLPClassifier\n",
    "\n",
    "clf = MLPClassifier(solver='adam', alpha=0.05, activation=\"logistic\", learning_rate= \"adaptive\", max_iter=300,\n",
    "                    hidden_layer_sizes=(100,30), random_state=1)\n",
    "skf = StratifiedKFold(n_splits=10)\n",
    "auc_scores=[]\n",
    "for train, test in skf.split(X_train, y_train):\n",
    "    train_X = X_train.iloc[train,:]\n",
    "    test_X = X_train.iloc[test]\n",
    "    train_y = y_train[train]\n",
    "    test_y = y_train[test]\n",
    "    clf.fit(train_X, train_y)\n",
    "    predict_y = clf.predict_proba(test_X)[:,1]\n",
    "    auc_scores.append(roc_auc_score(test_y, predict_y))\n",
    "np.array(auc_scores).mean()"
   ]
  },
  {
   "cell_type": "code",
   "execution_count": 75,
   "id": "57511d6c",
   "metadata": {},
   "outputs": [
    {
     "data": {
      "text/plain": [
       "0.4953416149068323"
      ]
     },
     "execution_count": 75,
     "metadata": {},
     "output_type": "execute_result"
    }
   ],
   "source": [
    "predict_y = clf.predict_proba(X_valid)[:,1]\n",
    "roc_auc_score(y_valid, predict_y)"
   ]
  },
  {
   "cell_type": "code",
   "execution_count": 76,
   "id": "2fee1dc7",
   "metadata": {
    "scrolled": true
   },
   "outputs": [
    {
     "data": {
      "text/plain": [
       "array([0.61387312, 0.49030117, 0.48536167, 0.55398864, 0.32487125,\n",
       "       0.54650028, 0.37381805, 0.45415802, 0.49765879, 0.39108765,\n",
       "       0.40828826, 0.47525944, 0.57674518, 0.55916754, 0.52394054,\n",
       "       0.54139397, 0.54269   , 0.56424479, 0.54086472, 0.46826656,\n",
       "       0.55645837, 0.50145426, 0.52885142, 0.59618166, 0.47534466,\n",
       "       0.56424479, 0.53924296, 0.48453084, 0.54088471, 0.5336581 ,\n",
       "       0.55473708, 0.59623492, 0.53223597, 0.56857375, 0.50027498,\n",
       "       0.58814544, 0.45532222, 0.4787503 , 0.40095566, 0.43811064,\n",
       "       0.40662437, 0.59339112, 0.50749998, 0.53052176, 0.5275426 ,\n",
       "       0.52336233, 0.54857367, 0.46857525, 0.49123396, 0.60625357,\n",
       "       0.35063836])"
      ]
     },
     "execution_count": 76,
     "metadata": {},
     "output_type": "execute_result"
    }
   ],
   "source": [
    "predict_y"
   ]
  },
  {
   "cell_type": "code",
   "execution_count": 77,
   "id": "4fcb6992",
   "metadata": {},
   "outputs": [],
   "source": [
    "df_test = kaggle_test_aac[['ID']]\n"
   ]
  },
  {
   "cell_type": "code",
   "execution_count": 78,
   "id": "ce2a2696",
   "metadata": {},
   "outputs": [],
   "source": [
    "ids=df_test['ID'].tolist()"
   ]
  },
  {
   "cell_type": "code",
   "execution_count": 79,
   "id": "bc676949",
   "metadata": {},
   "outputs": [],
   "source": [
    "aa=(predict_y>0.45).astype(int)"
   ]
  },
  {
   "cell_type": "code",
   "execution_count": 35,
   "id": "34d98ee1",
   "metadata": {},
   "outputs": [],
   "source": [
    "aa_list=aa.tolist()"
   ]
  },
  {
   "cell_type": "code",
   "execution_count": 36,
   "id": "20d83716",
   "metadata": {},
   "outputs": [
    {
     "ename": "SyntaxError",
     "evalue": "invalid syntax (3526099779.py, line 1)",
     "output_type": "error",
     "traceback": [
      "\u001b[0;36m  Input \u001b[0;32mIn [36]\u001b[0;36m\u001b[0m\n\u001b[0;31m    df = pd.DataFrame(data = [,\u001b[0m\n\u001b[0m                              ^\u001b[0m\n\u001b[0;31mSyntaxError\u001b[0m\u001b[0;31m:\u001b[0m invalid syntax\n"
     ]
    }
   ],
   "source": [
    "df = pd.DataFrame(data = [, \n",
    "                  columns =[\"col1\", \"col2\"])"
   ]
  },
  {
   "cell_type": "code",
   "execution_count": 37,
   "id": "f3974f38",
   "metadata": {},
   "outputs": [],
   "source": [
    "df_aa=pd.DataFrame(aa)\n",
    "df_aa.to_csv('Run.csv')"
   ]
  },
  {
   "cell_type": "code",
   "execution_count": 38,
   "id": "cfde7a13",
   "metadata": {},
   "outputs": [
    {
     "ename": "ValueError",
     "evalue": "Length of values (49) does not match length of index (62)",
     "output_type": "error",
     "traceback": [
      "\u001b[0;31m---------------------------------------------------------------------------\u001b[0m",
      "\u001b[0;31mValueError\u001b[0m                                Traceback (most recent call last)",
      "Input \u001b[0;32mIn [38]\u001b[0m, in \u001b[0;36m<cell line: 1>\u001b[0;34m()\u001b[0m\n\u001b[0;32m----> 1\u001b[0m df_test[\u001b[38;5;124m'\u001b[39m\u001b[38;5;124mLabels\u001b[39m\u001b[38;5;124m'\u001b[39m] \u001b[38;5;241m=\u001b[39m predict_y\n",
      "File \u001b[0;32m~/opt/anaconda3/lib/python3.9/site-packages/pandas/core/frame.py:3655\u001b[0m, in \u001b[0;36mDataFrame.__setitem__\u001b[0;34m(self, key, value)\u001b[0m\n\u001b[1;32m   3652\u001b[0m     \u001b[38;5;28mself\u001b[39m\u001b[38;5;241m.\u001b[39m_setitem_array([key], value)\n\u001b[1;32m   3653\u001b[0m \u001b[38;5;28;01melse\u001b[39;00m:\n\u001b[1;32m   3654\u001b[0m     \u001b[38;5;66;03m# set column\u001b[39;00m\n\u001b[0;32m-> 3655\u001b[0m     \u001b[38;5;28;43mself\u001b[39;49m\u001b[38;5;241;43m.\u001b[39;49m\u001b[43m_set_item\u001b[49m\u001b[43m(\u001b[49m\u001b[43mkey\u001b[49m\u001b[43m,\u001b[49m\u001b[43m \u001b[49m\u001b[43mvalue\u001b[49m\u001b[43m)\u001b[49m\n",
      "File \u001b[0;32m~/opt/anaconda3/lib/python3.9/site-packages/pandas/core/frame.py:3832\u001b[0m, in \u001b[0;36mDataFrame._set_item\u001b[0;34m(self, key, value)\u001b[0m\n\u001b[1;32m   3822\u001b[0m \u001b[38;5;28;01mdef\u001b[39;00m \u001b[38;5;21m_set_item\u001b[39m(\u001b[38;5;28mself\u001b[39m, key, value) \u001b[38;5;241m-\u001b[39m\u001b[38;5;241m>\u001b[39m \u001b[38;5;28;01mNone\u001b[39;00m:\n\u001b[1;32m   3823\u001b[0m     \u001b[38;5;124;03m\"\"\"\u001b[39;00m\n\u001b[1;32m   3824\u001b[0m \u001b[38;5;124;03m    Add series to DataFrame in specified column.\u001b[39;00m\n\u001b[1;32m   3825\u001b[0m \n\u001b[0;32m   (...)\u001b[0m\n\u001b[1;32m   3830\u001b[0m \u001b[38;5;124;03m    ensure homogeneity.\u001b[39;00m\n\u001b[1;32m   3831\u001b[0m \u001b[38;5;124;03m    \"\"\"\u001b[39;00m\n\u001b[0;32m-> 3832\u001b[0m     value \u001b[38;5;241m=\u001b[39m \u001b[38;5;28;43mself\u001b[39;49m\u001b[38;5;241;43m.\u001b[39;49m\u001b[43m_sanitize_column\u001b[49m\u001b[43m(\u001b[49m\u001b[43mvalue\u001b[49m\u001b[43m)\u001b[49m\n\u001b[1;32m   3834\u001b[0m     \u001b[38;5;28;01mif\u001b[39;00m (\n\u001b[1;32m   3835\u001b[0m         key \u001b[38;5;129;01min\u001b[39;00m \u001b[38;5;28mself\u001b[39m\u001b[38;5;241m.\u001b[39mcolumns\n\u001b[1;32m   3836\u001b[0m         \u001b[38;5;129;01mand\u001b[39;00m value\u001b[38;5;241m.\u001b[39mndim \u001b[38;5;241m==\u001b[39m \u001b[38;5;241m1\u001b[39m\n\u001b[1;32m   3837\u001b[0m         \u001b[38;5;129;01mand\u001b[39;00m \u001b[38;5;129;01mnot\u001b[39;00m is_extension_array_dtype(value)\n\u001b[1;32m   3838\u001b[0m     ):\n\u001b[1;32m   3839\u001b[0m         \u001b[38;5;66;03m# broadcast across multiple columns if necessary\u001b[39;00m\n\u001b[1;32m   3840\u001b[0m         \u001b[38;5;28;01mif\u001b[39;00m \u001b[38;5;129;01mnot\u001b[39;00m \u001b[38;5;28mself\u001b[39m\u001b[38;5;241m.\u001b[39mcolumns\u001b[38;5;241m.\u001b[39mis_unique \u001b[38;5;129;01mor\u001b[39;00m \u001b[38;5;28misinstance\u001b[39m(\u001b[38;5;28mself\u001b[39m\u001b[38;5;241m.\u001b[39mcolumns, MultiIndex):\n",
      "File \u001b[0;32m~/opt/anaconda3/lib/python3.9/site-packages/pandas/core/frame.py:4535\u001b[0m, in \u001b[0;36mDataFrame._sanitize_column\u001b[0;34m(self, value)\u001b[0m\n\u001b[1;32m   4532\u001b[0m     \u001b[38;5;28;01mreturn\u001b[39;00m _reindex_for_setitem(value, \u001b[38;5;28mself\u001b[39m\u001b[38;5;241m.\u001b[39mindex)\n\u001b[1;32m   4534\u001b[0m \u001b[38;5;28;01mif\u001b[39;00m is_list_like(value):\n\u001b[0;32m-> 4535\u001b[0m     \u001b[43mcom\u001b[49m\u001b[38;5;241;43m.\u001b[39;49m\u001b[43mrequire_length_match\u001b[49m\u001b[43m(\u001b[49m\u001b[43mvalue\u001b[49m\u001b[43m,\u001b[49m\u001b[43m \u001b[49m\u001b[38;5;28;43mself\u001b[39;49m\u001b[38;5;241;43m.\u001b[39;49m\u001b[43mindex\u001b[49m\u001b[43m)\u001b[49m\n\u001b[1;32m   4536\u001b[0m \u001b[38;5;28;01mreturn\u001b[39;00m sanitize_array(value, \u001b[38;5;28mself\u001b[39m\u001b[38;5;241m.\u001b[39mindex, copy\u001b[38;5;241m=\u001b[39m\u001b[38;5;28;01mTrue\u001b[39;00m, allow_2d\u001b[38;5;241m=\u001b[39m\u001b[38;5;28;01mTrue\u001b[39;00m)\n",
      "File \u001b[0;32m~/opt/anaconda3/lib/python3.9/site-packages/pandas/core/common.py:557\u001b[0m, in \u001b[0;36mrequire_length_match\u001b[0;34m(data, index)\u001b[0m\n\u001b[1;32m    553\u001b[0m \u001b[38;5;124;03m\"\"\"\u001b[39;00m\n\u001b[1;32m    554\u001b[0m \u001b[38;5;124;03mCheck the length of data matches the length of the index.\u001b[39;00m\n\u001b[1;32m    555\u001b[0m \u001b[38;5;124;03m\"\"\"\u001b[39;00m\n\u001b[1;32m    556\u001b[0m \u001b[38;5;28;01mif\u001b[39;00m \u001b[38;5;28mlen\u001b[39m(data) \u001b[38;5;241m!=\u001b[39m \u001b[38;5;28mlen\u001b[39m(index):\n\u001b[0;32m--> 557\u001b[0m     \u001b[38;5;28;01mraise\u001b[39;00m \u001b[38;5;167;01mValueError\u001b[39;00m(\n\u001b[1;32m    558\u001b[0m         \u001b[38;5;124m\"\u001b[39m\u001b[38;5;124mLength of values \u001b[39m\u001b[38;5;124m\"\u001b[39m\n\u001b[1;32m    559\u001b[0m         \u001b[38;5;124mf\u001b[39m\u001b[38;5;124m\"\u001b[39m\u001b[38;5;124m(\u001b[39m\u001b[38;5;132;01m{\u001b[39;00m\u001b[38;5;28mlen\u001b[39m(data)\u001b[38;5;132;01m}\u001b[39;00m\u001b[38;5;124m) \u001b[39m\u001b[38;5;124m\"\u001b[39m\n\u001b[1;32m    560\u001b[0m         \u001b[38;5;124m\"\u001b[39m\u001b[38;5;124mdoes not match length of index \u001b[39m\u001b[38;5;124m\"\u001b[39m\n\u001b[1;32m    561\u001b[0m         \u001b[38;5;124mf\u001b[39m\u001b[38;5;124m\"\u001b[39m\u001b[38;5;124m(\u001b[39m\u001b[38;5;132;01m{\u001b[39;00m\u001b[38;5;28mlen\u001b[39m(index)\u001b[38;5;132;01m}\u001b[39;00m\u001b[38;5;124m)\u001b[39m\u001b[38;5;124m\"\u001b[39m\n\u001b[1;32m    562\u001b[0m     )\n",
      "\u001b[0;31mValueError\u001b[0m: Length of values (49) does not match length of index (62)"
     ]
    }
   ],
   "source": [
    "df_test['Labels'] = predict_y"
   ]
  },
  {
   "cell_type": "code",
   "execution_count": null,
   "id": "b55612d1",
   "metadata": {},
   "outputs": [],
   "source": [
    "to_upload = pd.DataFrame(clf.predict_proba(testing_data)[:,1])\n",
    "cc = [10000+i+1 for i in range(len(kaggle_test_aac))]\n",
    "dd = pd.concat([pd.DataFrame(cc),pd.DataFrame(to_upload)],axis=1)\n",
    "dd.columns = ['ID','Label']"
   ]
  },
  {
   "cell_type": "code",
   "execution_count": null,
   "id": "9d80015c",
   "metadata": {},
   "outputs": [],
   "source": [
    "dd.to_csv('sixth_run.csv', index=None)"
   ]
  },
  {
   "cell_type": "code",
   "execution_count": null,
   "id": "b6cd1c53",
   "metadata": {},
   "outputs": [],
   "source": []
  },
  {
   "cell_type": "code",
   "execution_count": null,
   "id": "afd48aa9",
   "metadata": {},
   "outputs": [],
   "source": []
  },
  {
   "cell_type": "markdown",
   "id": "17e160b4",
   "metadata": {},
   "source": [
    "#   ***Fouth run"
   ]
  },
  {
   "cell_type": "code",
   "execution_count": 80,
   "id": "be59284f",
   "metadata": {},
   "outputs": [
    {
     "data": {
      "text/plain": [
       "array([1, 0, 1, 1, 0, 1, 0, 1, 1, 1, 0, 0, 0, 1, 0, 1, 0, 0, 1, 0])"
      ]
     },
     "execution_count": 80,
     "metadata": {},
     "output_type": "execute_result"
    }
   ],
   "source": [
    "clf.predict(test_X)"
   ]
  },
  {
   "cell_type": "code",
   "execution_count": 81,
   "id": "9aa464ff",
   "metadata": {},
   "outputs": [
    {
     "data": {
      "text/plain": [
       "0.4"
      ]
     },
     "execution_count": 81,
     "metadata": {},
     "output_type": "execute_result"
    }
   ],
   "source": [
    "clf.score(test_X, test_y)"
   ]
  },
  {
   "cell_type": "code",
   "execution_count": 82,
   "id": "7448a2aa",
   "metadata": {},
   "outputs": [
    {
     "data": {
      "text/plain": [
       "0.6143214285714286"
      ]
     },
     "execution_count": 82,
     "metadata": {},
     "output_type": "execute_result"
    }
   ],
   "source": [
    "from sklearn.ensemble import RandomForestClassifier\n",
    "\n",
    "clf = RandomForestClassifier(n_estimators=1000)\n",
    "clf = clf.fit(test_X, test_y)\n",
    "skf = StratifiedKFold(n_splits=5)\n",
    "auc_scores=[]\n",
    "for train, test in skf.split(X_train, y_train):\n",
    "    train_X = X_train.iloc[train,:]\n",
    "    test_X = X_train.iloc[test]\n",
    "    train_y = y_train[train]\n",
    "    test_y = y_train[test]\n",
    "    clf.fit(train_X, train_y)\n",
    "    predict_y = clf.predict_proba(test_X)[:,1]\n",
    "    auc_scores.append(roc_auc_score(test_y, predict_y))\n",
    "np.array(auc_scores).mean()"
   ]
  },
  {
   "cell_type": "code",
   "execution_count": 83,
   "id": "ae256ba9",
   "metadata": {},
   "outputs": [
    {
     "data": {
      "text/plain": [
       "0.525"
      ]
     },
     "execution_count": 83,
     "metadata": {},
     "output_type": "execute_result"
    }
   ],
   "source": [
    "clf.score(test_X, test_y)"
   ]
  },
  {
   "cell_type": "code",
   "execution_count": 84,
   "id": "7e1eb2ce",
   "metadata": {},
   "outputs": [
    {
     "data": {
      "text/plain": [
       "array([1, 0, 1, 0, 1, 0, 1, 1, 1, 0, 1, 0, 0, 1, 1, 0, 0, 0, 0, 1, 0, 0,\n",
       "       0, 1, 0, 0, 1, 0, 1, 0, 0, 0, 0, 1, 0, 0, 1, 1, 0, 0, 0, 1, 1, 0,\n",
       "       0, 0, 0, 1, 1, 1, 1, 0, 0, 0, 1, 0, 1, 0, 1, 0, 1, 0, 0, 1, 1, 0,\n",
       "       1, 0, 1, 0, 0, 1, 0, 0, 0, 0, 1, 0, 1, 0, 0, 1, 1, 1, 1, 0, 1, 0,\n",
       "       0, 0, 1, 1, 1, 1, 1, 1, 1, 0, 0, 0, 1, 0, 1, 0])"
      ]
     },
     "execution_count": 84,
     "metadata": {},
     "output_type": "execute_result"
    }
   ],
   "source": [
    "clf.predict(testing_data)"
   ]
  },
  {
   "cell_type": "code",
   "execution_count": 95,
   "id": "8175d907",
   "metadata": {},
   "outputs": [],
   "source": [
    "to_upload = pd.DataFrame(clf.predict_proba(testing_data)[:,1])\n"
   ]
  },
  {
   "cell_type": "code",
   "execution_count": 97,
   "id": "8a4d88ea",
   "metadata": {},
   "outputs": [],
   "source": [
    "bb=(to_upload>0.5).astype(int)"
   ]
  },
  {
   "cell_type": "code",
   "execution_count": 98,
   "id": "e643f227",
   "metadata": {},
   "outputs": [
    {
     "data": {
      "text/html": [
       "<div>\n",
       "<style scoped>\n",
       "    .dataframe tbody tr th:only-of-type {\n",
       "        vertical-align: middle;\n",
       "    }\n",
       "\n",
       "    .dataframe tbody tr th {\n",
       "        vertical-align: top;\n",
       "    }\n",
       "\n",
       "    .dataframe thead th {\n",
       "        text-align: right;\n",
       "    }\n",
       "</style>\n",
       "<table border=\"1\" class=\"dataframe\">\n",
       "  <thead>\n",
       "    <tr style=\"text-align: right;\">\n",
       "      <th></th>\n",
       "      <th>0</th>\n",
       "    </tr>\n",
       "  </thead>\n",
       "  <tbody>\n",
       "    <tr>\n",
       "      <th>0</th>\n",
       "      <td>1</td>\n",
       "    </tr>\n",
       "    <tr>\n",
       "      <th>1</th>\n",
       "      <td>0</td>\n",
       "    </tr>\n",
       "    <tr>\n",
       "      <th>2</th>\n",
       "      <td>1</td>\n",
       "    </tr>\n",
       "    <tr>\n",
       "      <th>3</th>\n",
       "      <td>0</td>\n",
       "    </tr>\n",
       "    <tr>\n",
       "      <th>4</th>\n",
       "      <td>1</td>\n",
       "    </tr>\n",
       "    <tr>\n",
       "      <th>...</th>\n",
       "      <td>...</td>\n",
       "    </tr>\n",
       "    <tr>\n",
       "      <th>99</th>\n",
       "      <td>0</td>\n",
       "    </tr>\n",
       "    <tr>\n",
       "      <th>100</th>\n",
       "      <td>1</td>\n",
       "    </tr>\n",
       "    <tr>\n",
       "      <th>101</th>\n",
       "      <td>0</td>\n",
       "    </tr>\n",
       "    <tr>\n",
       "      <th>102</th>\n",
       "      <td>1</td>\n",
       "    </tr>\n",
       "    <tr>\n",
       "      <th>103</th>\n",
       "      <td>0</td>\n",
       "    </tr>\n",
       "  </tbody>\n",
       "</table>\n",
       "<p>104 rows × 1 columns</p>\n",
       "</div>"
      ],
      "text/plain": [
       "     0\n",
       "0    1\n",
       "1    0\n",
       "2    1\n",
       "3    0\n",
       "4    1\n",
       "..  ..\n",
       "99   0\n",
       "100  1\n",
       "101  0\n",
       "102  1\n",
       "103  0\n",
       "\n",
       "[104 rows x 1 columns]"
      ]
     },
     "execution_count": 98,
     "metadata": {},
     "output_type": "execute_result"
    }
   ],
   "source": [
    "bb"
   ]
  },
  {
   "cell_type": "code",
   "execution_count": 101,
   "id": "7b2dc631",
   "metadata": {},
   "outputs": [],
   "source": [
    "xx = pd.DataFrame(bb)\n",
    "cc = [1000+i+1 for i in range(len(kaggle_test_aac))]\n",
    "dd = pd.concat([pd.DataFrame(cc),pd.DataFrame(xx)],axis=1)\n",
    "dd.columns = ['ID','Labels']"
   ]
  },
  {
   "cell_type": "code",
   "execution_count": 102,
   "id": "d91b3807",
   "metadata": {},
   "outputs": [],
   "source": [
    "dd.to_csv('fifth_run.csv', index=None)"
   ]
  },
  {
   "cell_type": "code",
   "execution_count": null,
   "id": "e11e13a8",
   "metadata": {},
   "outputs": [],
   "source": []
  },
  {
   "cell_type": "markdown",
   "id": "2eae6a1f",
   "metadata": {},
   "source": [
    "# Fifth run"
   ]
  },
  {
   "cell_type": "code",
   "execution_count": null,
   "id": "f1829cc5",
   "metadata": {},
   "outputs": [],
   "source": [
    "x"
   ]
  },
  {
   "cell_type": "code",
   "execution_count": null,
   "id": "d0cc5af1",
   "metadata": {},
   "outputs": [],
   "source": []
  }
 ],
 "metadata": {
  "kernelspec": {
   "display_name": "Python 3 (ipykernel)",
   "language": "python",
   "name": "python3"
  },
  "language_info": {
   "codemirror_mode": {
    "name": "ipython",
    "version": 3
   },
   "file_extension": ".py",
   "mimetype": "text/x-python",
   "name": "python",
   "nbconvert_exporter": "python",
   "pygments_lexer": "ipython3",
   "version": "3.10.7"
  }
 },
 "nbformat": 4,
 "nbformat_minor": 5
}
