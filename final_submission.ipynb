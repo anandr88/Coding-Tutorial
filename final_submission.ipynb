{
 "cells": [
  {
   "cell_type": "code",
   "execution_count": 33,
   "id": "7bd3e2c8",
   "metadata": {},
   "outputs": [],
   "source": [
    "# Importing library\n",
    "import numpy as np\n",
    "import matplotlib.pyplot as plt\n",
    "import pandas as pd\n",
    "from sklearn.model_selection import train_test_split\n",
    "from sklearn.preprocessing import StandardScaler\n",
    "import sklearn.feature_selection as fs\n",
    "from sklearn.ensemble import GradientBoostingClassifier\n",
    "import pandas as pd\n",
    "import numpy as np\n",
    "import scipy\n",
    "import os\n",
    "import sys\n",
    "import math\n",
    "import getopt\n",
    "import collections\n",
    "import tqdm\n",
    "import itertools\n",
    "import argparse\n",
    "import matplotlib.pyplot as plt\n",
    "from matplotlib.ticker import StrMethodFormatter\n",
    "from sklearn.preprocessing import StandardScaler\n",
    "from sklearn.preprocessing import MinMaxScaler\n",
    "import random\n",
    "from sklearn.model_selection import train_test_split\n",
    "from sklearn import metrics\n",
    "from sklearn.preprocessing import LabelBinarizer\n",
    "from sklearn.ensemble import RandomForestClassifier\n",
    "from sklearn.model_selection import train_test_split\n",
    "from nltk.tokenize import sent_tokenize, word_tokenize\n",
    "from scipy import stats\n",
    "import seaborn as sns; sns.set()\n",
    "import warnings\n",
    "from sklearn.model_selection import RandomizedSearchCV\n",
    "from sklearn.model_selection import GridSearchCV\n",
    "from sklearn.svm import SVC\n",
    "from sklearn import model_selection\n",
    "from sklearn.utils import shuffle\n",
    "warnings.filterwarnings(action = 'ignore') \n",
    "import gensim \n",
    "from gensim.models import Word2Vec\n",
    "import sys\n",
    "from sklearn.preprocessing import OneHotEncoder\n",
    "from sklearn.ensemble import StackingClassifier\n",
    "from sklearn.neural_network import MLPClassifier\n",
    "from sklearn.neighbors import KNeighborsClassifier\n",
    "from sklearn.linear_model import LogisticRegression\n",
    "from sklearn import svm\n",
    "from sklearn.ensemble import ExtraTreesClassifier\n",
    "from sklearn.datasets import make_classification\n",
    "from sklearn.tree import DecisionTreeClassifier\n",
    "from sklearn.tree import export_text\n",
    "from sklearn.neighbors import NearestCentroid\n",
    "from sklearn.linear_model import Perceptron\n",
    "from sklearn.preprocessing import PolynomialFeatures\n",
    "from sklearn.linear_model import LogisticRegression\n",
    "from sklearn.ensemble import GradientBoostingClassifier\n",
    "from sklearn.metrics import confusion_matrix\n",
    "from sklearn.neighbors import KNeighborsRegressor\n",
    "from sklearn.ensemble import GradientBoostingRegressor\n",
    "import xgboost\n",
    "from sklearn.ensemble import RandomForestClassifier"
   ]
  },
  {
   "cell_type": "code",
   "execution_count": 16,
   "id": "d8a3d91b",
   "metadata": {},
   "outputs": [],
   "source": [
    "test= pd.read_csv(\"test_data.csv\")\n",
    "train= pd.read_csv(\"train_data.csv\")\n",
    "\n",
    "test = test.sample(frac=1, random_state=42)  # set random_state for r\n",
    "train = train.sample(frac=1, random_state=42)  # set random_state for r\n",
    "\n",
    "x = train.drop(columns=['Label'])\n",
    "y = train.Label\n",
    "x_test = test.drop(columns=['Label'])\n",
    "y_test = test.Label\n",
    "\n",
    "x_train.reset_index(inplace=True, drop=True)\n",
    "y_train = y_train.reset_index(drop=True)\n",
    "\n",
    "x_test.reset_index(inplace=True, drop=True)\n",
    "y_test = y_test.reset_index(drop=True)\n",
    "\n"
   ]
  },
  {
   "cell_type": "code",
   "execution_count": 53,
   "id": "95e0b18c",
   "metadata": {},
   "outputs": [
    {
     "name": "stdout",
     "output_type": "stream",
     "text": [
      "AUROC scores: [0.97633136 0.86982249 0.67948718 0.80128205 0.73717949 0.82051282\n",
      " 0.79487179 0.67948718 0.76923077 0.83333333]\n",
      "Mean AUROC score: 0.7961538461538461\n"
     ]
    }
   ],
   "source": [
    "from xgboost import XGBClassifier\n",
    "from sklearn.feature_selection import RFE\n",
    "from sklearn.metrics import roc_auc_score\n",
    "from sklearn.model_selection import cross_val_score\n",
    "\n",
    "# Create an XGBClassifier object\n",
    "XGB = XGBClassifier()\n",
    "\n",
    "# Create an RFE object with 50 features to select\n",
    "rfe = RFE(XGB, n_features_to_select=50)\n",
    "\n",
    "# Fit the RFE object to the data\n",
    "rfe.fit(x, y)\n",
    "\n",
    "# Extract the selected features from the original dataset\n",
    "X_selected = x.loc[:, rfe.support_]\n",
    "\n",
    "# Fit a new XGBClassifier using only the selected features and compute AUROC score using 10-fold cross-validation\n",
    "XGB_selected = XGBClassifier()\n",
    "auc_scores = cross_val_score(XGB_selected, X_selected, y, scoring='roc_auc', cv=10)\n",
    "\n",
    "print(\"AUROC scores:\", auc_scores)\n",
    "print(\"Mean AUROC score:\", auc_scores.mean())\n"
   ]
  },
  {
   "cell_type": "code",
   "execution_count": 58,
   "id": "47d4b077",
   "metadata": {},
   "outputs": [],
   "source": [
    "# Predict on the test file\n",
    "test_selected = test.loc[:, rfe.support_]\n",
    "XGB_selected.fit(X_selected, y)\n",
    "y_pred = XGB_selected.predict_proba(test_selected)\n"
   ]
  },
  {
   "cell_type": "code",
   "execution_count": 62,
   "id": "c1edfa04",
   "metadata": {},
   "outputs": [],
   "source": [
    "aa2=y_pred[:,1]"
   ]
  },
  {
   "cell_type": "code",
   "execution_count": 63,
   "id": "26f56069",
   "metadata": {},
   "outputs": [],
   "source": [
    "to_upload = pd.DataFrame(aa2)\n",
    "cc = [1000+i+1 for i in range(len(test))]\n",
    "dd = pd.concat([pd.DataFrame(cc),pd.DataFrame(to_upload)],axis=1)\n",
    "dd.columns = ['ID','Labels']\n",
    "dd.to_csv(\"13_run.csv\", index=False)"
   ]
  },
  {
   "cell_type": "code",
   "execution_count": null,
   "id": "94e85c51",
   "metadata": {},
   "outputs": [],
   "source": []
  }
 ],
 "metadata": {
  "kernelspec": {
   "display_name": "Python 3 (ipykernel)",
   "language": "python",
   "name": "python3"
  },
  "language_info": {
   "codemirror_mode": {
    "name": "ipython",
    "version": 3
   },
   "file_extension": ".py",
   "mimetype": "text/x-python",
   "name": "python",
   "nbconvert_exporter": "python",
   "pygments_lexer": "ipython3",
   "version": "3.10.7"
  }
 },
 "nbformat": 4,
 "nbformat_minor": 5
}
